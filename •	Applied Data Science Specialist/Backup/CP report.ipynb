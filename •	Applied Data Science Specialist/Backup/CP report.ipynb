{
 "cells": [
  {
   "cell_type": "markdown",
   "metadata": {},
   "source": [
    "# Peer-Graded Assigment: Capstone Project - The Battle of Neighborhoods"
   ]
  },
  {
   "cell_type": "markdown",
   "metadata": {},
   "source": [
    "## Sotiris Papanikolaou"
   ]
  },
  {
   "cell_type": "markdown",
   "metadata": {},
   "source": [
    "### Introduction / Business Problem"
   ]
  },
  {
   "cell_type": "markdown",
   "metadata": {},
   "source": [
    "=========================================="
   ]
  },
  {
   "cell_type": "markdown",
   "metadata": {},
   "source": [
    "##### Business Problem Introduction"
   ]
  },
  {
   "cell_type": "markdown",
   "metadata": {},
   "source": [
    "Over the past years many Greeks have immigrated in New York city and enstablised communities in it's neighborhoods. Many of these families opened Greek restaurants and have been very successful businesses because they have both the support of the Greek communities and the approval of many native Americans who became fans of Greek food."
   ]
  },
  {
   "cell_type": "markdown",
   "metadata": {},
   "source": [
    "In this project we are going to present a guide on how to choose the best location in New York City to open a Greek Restaurant. The choice will take into account the number of Greek restaurants (positive indicator) and the number of general type restaurants (negative indicator) in each New York City neighborhood. For example if there exists a neighborhood where one out of ten restaurants are Greek then people in this area seem to be very intrested in Greek food and its a good place to open a business (that is the basic \n",
    "idea but keep in mind that we need to consider some observations which do not act well in our model)."
   ]
  },
  {
   "cell_type": "markdown",
   "metadata": {},
   "source": [
    "##### Audience"
   ]
  },
  {
   "cell_type": "markdown",
   "metadata": {},
   "source": [
    "Our targeted \n",
    "audience is obviously people who want to invest money on a restaurant business in New York City and have a passion with Greek food. As described above the biggest part of this set are Greek people who have been enstablised and now live in New York city."
   ]
  },
  {
   "cell_type": "markdown",
   "metadata": {},
   "source": [
    "### Data"
   ]
  },
  {
   "cell_type": "markdown",
   "metadata": {},
   "source": [
    "=========================================="
   ]
  },
  {
   "cell_type": "markdown",
   "metadata": {},
   "source": [
    "The data needed for this project is New York neighborhoods data and FourSquare data."
   ]
  },
  {
   "cell_type": "markdown",
   "metadata": {},
   "source": [
    "Foursuare data provides us with key information about different areas. Using FourSquare data will allow us to:"
   ]
  },
  {
   "cell_type": "markdown",
   "metadata": {},
   "source": [
    "* Locate the positions of current restaurants in New York city.\n",
    "* Locate the positions of current Greek restaurants in  New York city.\n",
    "* Compare the location results."
   ]
  },
  {
   "cell_type": "markdown",
   "metadata": {},
   "source": [
    "New York neighborhoods data contains neighborhoods, boroughs, longitudes and latitudes in New York city and is crucial for our analysis. It can be found in the following source: https://geo.nyu.edu/catalog/nyu_2451_34572"
   ]
  },
  {
   "cell_type": "code",
   "execution_count": null,
   "metadata": {},
   "outputs": [],
   "source": []
  }
 ],
 "metadata": {
  "kernelspec": {
   "display_name": "Python 3",
   "language": "python",
   "name": "python3"
  },
  "language_info": {
   "codemirror_mode": {
    "name": "ipython",
    "version": 3
   },
   "file_extension": ".py",
   "mimetype": "text/x-python",
   "name": "python",
   "nbconvert_exporter": "python",
   "pygments_lexer": "ipython3",
   "version": "3.6.5"
  }
 },
 "nbformat": 4,
 "nbformat_minor": 2
}
